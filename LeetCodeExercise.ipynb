{
  "nbformat": 4,
  "nbformat_minor": 0,
  "metadata": {
    "colab": {
      "name": "LeetCodeExercise.ipynb",
      "provenance": [],
      "authorship_tag": "ABX9TyNp48a/Joc9PF+ASyz21GPa",
      "include_colab_link": true
    },
    "kernelspec": {
      "name": "python3",
      "display_name": "Python 3"
    },
    "language_info": {
      "name": "python"
    }
  },
  "cells": [
    {
      "cell_type": "markdown",
      "metadata": {
        "id": "view-in-github",
        "colab_type": "text"
      },
      "source": [
        "<a href=\"https://colab.research.google.com/github/Meryem1425/LeetCode_Exercise/blob/master/LeetCodeExercise.ipynb\" target=\"_parent\"><img src=\"https://colab.research.google.com/assets/colab-badge.svg\" alt=\"Open In Colab\"/></a>"
      ]
    },
    {
      "cell_type": "code",
      "source": [
        "import numpy as np\n",
        "import pandas as pd"
      ],
      "metadata": {
        "id": "A5qtMYk9NJNe"
      },
      "execution_count": 1,
      "outputs": []
    },
    {
      "cell_type": "markdown",
      "source": [
        "## Plus One"
      ],
      "metadata": {
        "id": "WnCURECoNzkt"
      }
    },
    {
      "cell_type": "code",
      "source": [
        "def plusOne(digits):\n",
        "    digits=str(int(''.join([str(x) for x in digits]))+1)\n",
        "    ret=[]\n",
        "    for i in range(len(digits)):\n",
        "      ret.append(int(digits[i:i+1]))\n",
        "    return ret\n",
        "\n"
      ],
      "metadata": {
        "id": "Ii04PHrIN1bc"
      },
      "execution_count": 6,
      "outputs": []
    },
    {
      "cell_type": "code",
      "source": [
        "digits = [1,2,3]\n",
        "plusOne(digits)"
      ],
      "metadata": {
        "colab": {
          "base_uri": "https://localhost:8080/"
        },
        "id": "REupvYrDRAXC",
        "outputId": "699eb156-045e-421b-bc02-0de988f7581c"
      },
      "execution_count": 7,
      "outputs": [
        {
          "output_type": "execute_result",
          "data": {
            "text/plain": [
              "[1, 2, 4]"
            ]
          },
          "metadata": {},
          "execution_count": 7
        }
      ]
    },
    {
      "cell_type": "code",
      "source": [
        "digits = [4,3,2,1]\n",
        "plusOne(digits)"
      ],
      "metadata": {
        "colab": {
          "base_uri": "https://localhost:8080/"
        },
        "id": "mWm00u1JRYtL",
        "outputId": "ffc8f4b6-4a8e-4480-8230-ce9ebf866f27"
      },
      "execution_count": 8,
      "outputs": [
        {
          "output_type": "execute_result",
          "data": {
            "text/plain": [
              "[4, 3, 2, 2]"
            ]
          },
          "metadata": {},
          "execution_count": 8
        }
      ]
    },
    {
      "cell_type": "code",
      "source": [
        "digits = [9]\n",
        "plusOne(digits)"
      ],
      "metadata": {
        "colab": {
          "base_uri": "https://localhost:8080/"
        },
        "id": "7TkBS2bZRemq",
        "outputId": "e24ad328-92ff-4612-f266-d26e4f046d8b"
      },
      "execution_count": 9,
      "outputs": [
        {
          "output_type": "execute_result",
          "data": {
            "text/plain": [
              "[1, 0]"
            ]
          },
          "metadata": {},
          "execution_count": 9
        }
      ]
    },
    {
      "cell_type": "markdown",
      "source": [
        "## Multiply Strings"
      ],
      "metadata": {
        "id": "UnMP5hdAUXMg"
      }
    },
    {
      "cell_type": "code",
      "source": [
        "def multiply(num1, num2):\n",
        "  num1 = int(num1)\n",
        "  num2 = int(num2)\n",
        "  num_new = num1 * num2\n",
        "  num_last = str(num_new)\n",
        "  return num_last\n",
        "\n"
      ],
      "metadata": {
        "id": "4h2p1SHVRmei"
      },
      "execution_count": 5,
      "outputs": []
    },
    {
      "cell_type": "code",
      "source": [
        "num1 = \"123\"\n",
        "num2 = \"456\"\n",
        "multiply(num1,num2)"
      ],
      "metadata": {
        "colab": {
          "base_uri": "https://localhost:8080/",
          "height": 35
        },
        "id": "ioe-J7ABVeXp",
        "outputId": "75ffbd9e-0f2c-41be-9fcc-abf4852062f6"
      },
      "execution_count": 6,
      "outputs": [
        {
          "output_type": "execute_result",
          "data": {
            "application/vnd.google.colaboratory.intrinsic+json": {
              "type": "string"
            },
            "text/plain": [
              "'56088'"
            ]
          },
          "metadata": {},
          "execution_count": 6
        }
      ]
    },
    {
      "cell_type": "code",
      "source": [
        "## second way\n",
        "def multiply(num1, num2):\n",
        "  return str(int(num1)*int(num2))"
      ],
      "metadata": {
        "id": "rWE7P91sVhh5"
      },
      "execution_count": null,
      "outputs": []
    }
  ]
}